{
  "nbformat": 4,
  "nbformat_minor": 0,
  "metadata": {
    "colab": {
      "provenance": [],
      "gpuType": "T4",
      "authorship_tag": "ABX9TyNWaHB/W3ZbkhHJzpe+XKh4",
      "include_colab_link": true
    },
    "kernelspec": {
      "name": "python3",
      "display_name": "Python 3"
    },
    "language_info": {
      "name": "python"
    },
    "accelerator": "GPU"
  },
  "cells": [
    {
      "cell_type": "markdown",
      "metadata": {
        "id": "view-in-github",
        "colab_type": "text"
      },
      "source": [
        "<a href=\"https://colab.research.google.com/github/Rudra-Prasad-Das/ML-Projects/blob/main/Cats_VS_Dogs.ipynb\" target=\"_parent\"><img src=\"https://colab.research.google.com/assets/colab-badge.svg\" alt=\"Open In Colab\"/></a>"
      ]
    },
    {
      "cell_type": "code",
      "execution_count": 1,
      "metadata": {
        "colab": {
          "base_uri": "https://localhost:8080/"
        },
        "id": "16gGP1mno4IQ",
        "outputId": "a395e7b1-17a0-4d0a-897e-36fea7332067"
      },
      "outputs": [
        {
          "output_type": "stream",
          "name": "stdout",
          "text": [
            "Dataset URL: https://www.kaggle.com/datasets/salader/dogs-vs-cats\n",
            "License(s): unknown\n",
            "Downloading dogs-vs-cats.zip to /content\n",
            "100% 1.06G/1.06G [00:07<00:00, 108MB/s]\n",
            "100% 1.06G/1.06G [00:07<00:00, 162MB/s]\n"
          ]
        }
      ],
      "source": [
        "!kaggle datasets download -d salader/dogs-vs-cats"
      ]
    },
    {
      "cell_type": "code",
      "source": [
        "!mkdir -p ~/.kaggle\n",
        "!cp kaggle.json ~/.kaggle/"
      ],
      "metadata": {
        "id": "umkDLkxxqFXa"
      },
      "execution_count": 2,
      "outputs": []
    },
    {
      "cell_type": "code",
      "source": [
        "import zipfile\n",
        "zip_ref=zipfile.ZipFile('/content/dogs-vs-cats.zip','r')\n",
        "zip_ref.extractall('/content')\n",
        "zip_ref.close()"
      ],
      "metadata": {
        "id": "10KysHOEpK57"
      },
      "execution_count": 3,
      "outputs": []
    },
    {
      "cell_type": "code",
      "source": [
        "import os\n",
        "import tensorflow as tf\n",
        "from tensorflow import keras\n",
        "from keras import Sequential\n",
        "from keras.layers import Conv2D,MaxPooling2D,Dense,Flatten\n",
        "import matplotlib.pyplot as plt"
      ],
      "metadata": {
        "id": "gSY9dVxbq8Ub"
      },
      "execution_count": 25,
      "outputs": []
    },
    {
      "cell_type": "code",
      "source": [
        "from tensorflow.keras.preprocessing.image import ImageDataGenerator\n",
        "\n",
        "# Define the ImageDataGenerator for training set\n",
        "train_datagen = ImageDataGenerator(\n",
        "    rescale=1./255,\n",
        "    shear_range=0.2,\n",
        "    zoom_range=0.2,\n",
        "    horizontal_flip=True\n",
        ")\n",
        "\n",
        "# Define the ImageDataGenerator for validation set\n",
        "validation_datagen = ImageDataGenerator(rescale=1./255)"
      ],
      "metadata": {
        "id": "N7yGH6EvssiH"
      },
      "execution_count": 9,
      "outputs": []
    },
    {
      "cell_type": "code",
      "source": [
        "# Define the directory paths\n",
        "train_dir = '/content/train'\n",
        "validation_dir = '/content/test'\n",
        "\n",
        "# Create the training dataset\n",
        "train_generator = train_datagen.flow_from_directory(\n",
        "    train_dir,\n",
        "    target_size=(150, 150),  # Resize images to 150x150\n",
        "    batch_size=32,\n",
        "    class_mode='binary'      # Binary labels (cat: 0, dog: 1)\n",
        ")\n",
        "\n",
        "# Create the validation dataset\n",
        "validation_generator = validation_datagen.flow_from_directory(\n",
        "    validation_dir,\n",
        "    target_size=(150, 150),\n",
        "    batch_size=32,\n",
        "    class_mode='binary'\n",
        ")\n"
      ],
      "metadata": {
        "colab": {
          "base_uri": "https://localhost:8080/"
        },
        "id": "hGhW3MqRrar-",
        "outputId": "e8ea1b53-c3f1-46e5-a1ff-3c100a715519"
      },
      "execution_count": 11,
      "outputs": [
        {
          "output_type": "stream",
          "name": "stdout",
          "text": [
            "Found 20000 images belonging to 2 classes.\n",
            "Found 5000 images belonging to 2 classes.\n"
          ]
        }
      ]
    },
    {
      "cell_type": "code",
      "source": [
        "from tensorflow.keras.models import Sequential\n",
        "from tensorflow.keras.layers import Conv2D, MaxPooling2D, Flatten, Dense\n",
        "\n",
        "model = Sequential([\n",
        "    Conv2D(32, (3, 3), activation='relu', input_shape=(150, 150, 3)),\n",
        "    MaxPooling2D((2, 2)),\n",
        "    Conv2D(64, (3, 3), activation='relu'),\n",
        "    MaxPooling2D((2, 2)),\n",
        "    Conv2D(128, (3, 3), activation='relu'),\n",
        "    MaxPooling2D((2, 2)),\n",
        "    Conv2D(128, (3, 3), activation='relu'),\n",
        "    MaxPooling2D((2, 2)),\n",
        "    Flatten(),\n",
        "    Dense(512, activation='relu'),\n",
        "    Dense(1, activation='sigmoid')\n",
        "])\n",
        "\n",
        "model.compile(optimizer='rmsprop',\n",
        "              loss='binary_crossentropy',\n",
        "              metrics=['accuracy'])\n",
        "\n",
        "model.fit(train_generator, epochs=20, validation_data=validation_generator)\n"
      ],
      "metadata": {
        "colab": {
          "base_uri": "https://localhost:8080/"
        },
        "id": "Rd0QHutctBKo",
        "outputId": "929f3f49-23b8-44ed-cf2a-88d74f0ff14f"
      },
      "execution_count": 12,
      "outputs": [
        {
          "output_type": "stream",
          "name": "stdout",
          "text": [
            "Epoch 1/20\n",
            "625/625 [==============================] - 143s 219ms/step - loss: 0.6565 - accuracy: 0.6053 - val_loss: 0.5724 - val_accuracy: 0.6950\n",
            "Epoch 2/20\n",
            "625/625 [==============================] - 139s 222ms/step - loss: 0.5571 - accuracy: 0.7150 - val_loss: 0.5419 - val_accuracy: 0.7432\n",
            "Epoch 3/20\n",
            "625/625 [==============================] - 138s 220ms/step - loss: 0.4750 - accuracy: 0.7739 - val_loss: 0.4198 - val_accuracy: 0.8170\n",
            "Epoch 4/20\n",
            "625/625 [==============================] - 137s 220ms/step - loss: 0.4086 - accuracy: 0.8136 - val_loss: 0.3825 - val_accuracy: 0.8324\n",
            "Epoch 5/20\n",
            "625/625 [==============================] - 138s 221ms/step - loss: 0.3590 - accuracy: 0.8392 - val_loss: 0.3129 - val_accuracy: 0.8678\n",
            "Epoch 6/20\n",
            "625/625 [==============================] - 136s 218ms/step - loss: 0.3142 - accuracy: 0.8617 - val_loss: 0.3008 - val_accuracy: 0.8682\n",
            "Epoch 7/20\n",
            "625/625 [==============================] - 139s 223ms/step - loss: 0.2821 - accuracy: 0.8813 - val_loss: 0.3071 - val_accuracy: 0.8714\n",
            "Epoch 8/20\n",
            "625/625 [==============================] - 136s 218ms/step - loss: 0.2563 - accuracy: 0.8917 - val_loss: 0.2942 - val_accuracy: 0.8860\n",
            "Epoch 9/20\n",
            "625/625 [==============================] - 137s 220ms/step - loss: 0.2344 - accuracy: 0.9017 - val_loss: 0.2465 - val_accuracy: 0.9016\n",
            "Epoch 10/20\n",
            "625/625 [==============================] - 138s 221ms/step - loss: 0.2213 - accuracy: 0.9081 - val_loss: 0.2621 - val_accuracy: 0.8974\n",
            "Epoch 11/20\n",
            "625/625 [==============================] - 136s 218ms/step - loss: 0.2077 - accuracy: 0.9162 - val_loss: 0.2640 - val_accuracy: 0.9114\n",
            "Epoch 12/20\n",
            "625/625 [==============================] - 139s 222ms/step - loss: 0.1999 - accuracy: 0.9208 - val_loss: 0.2485 - val_accuracy: 0.9134\n",
            "Epoch 13/20\n",
            "625/625 [==============================] - 138s 220ms/step - loss: 0.1940 - accuracy: 0.9201 - val_loss: 0.2413 - val_accuracy: 0.9150\n",
            "Epoch 14/20\n",
            "625/625 [==============================] - 138s 221ms/step - loss: 0.1859 - accuracy: 0.9265 - val_loss: 0.3106 - val_accuracy: 0.8822\n",
            "Epoch 15/20\n",
            "625/625 [==============================] - 137s 219ms/step - loss: 0.1836 - accuracy: 0.9276 - val_loss: 0.2679 - val_accuracy: 0.9192\n",
            "Epoch 16/20\n",
            "625/625 [==============================] - 136s 218ms/step - loss: 0.1759 - accuracy: 0.9311 - val_loss: 0.2153 - val_accuracy: 0.9260\n",
            "Epoch 17/20\n",
            "625/625 [==============================] - 138s 221ms/step - loss: 0.1755 - accuracy: 0.9313 - val_loss: 0.2454 - val_accuracy: 0.9298\n",
            "Epoch 18/20\n",
            "625/625 [==============================] - 137s 219ms/step - loss: 0.1691 - accuracy: 0.9357 - val_loss: 0.2193 - val_accuracy: 0.9162\n",
            "Epoch 19/20\n",
            "625/625 [==============================] - 140s 224ms/step - loss: 0.1735 - accuracy: 0.9343 - val_loss: 0.2802 - val_accuracy: 0.9010\n",
            "Epoch 20/20\n",
            "625/625 [==============================] - 140s 224ms/step - loss: 0.1657 - accuracy: 0.9370 - val_loss: 0.2233 - val_accuracy: 0.9274\n"
          ]
        },
        {
          "output_type": "execute_result",
          "data": {
            "text/plain": [
              "<keras.src.callbacks.History at 0x7fada0517e20>"
            ]
          },
          "metadata": {},
          "execution_count": 12
        }
      ]
    },
    {
      "cell_type": "code",
      "source": [
        "model.summary()"
      ],
      "metadata": {
        "colab": {
          "base_uri": "https://localhost:8080/"
        },
        "id": "m0n8AKSo6ucS",
        "outputId": "b3adc5f4-ad88-491e-c69b-a8d3a4df96a7"
      },
      "execution_count": 14,
      "outputs": [
        {
          "output_type": "stream",
          "name": "stdout",
          "text": [
            "Model: \"sequential\"\n",
            "_________________________________________________________________\n",
            " Layer (type)                Output Shape              Param #   \n",
            "=================================================================\n",
            " conv2d (Conv2D)             (None, 148, 148, 32)      896       \n",
            "                                                                 \n",
            " max_pooling2d (MaxPooling2  (None, 74, 74, 32)        0         \n",
            " D)                                                              \n",
            "                                                                 \n",
            " conv2d_1 (Conv2D)           (None, 72, 72, 64)        18496     \n",
            "                                                                 \n",
            " max_pooling2d_1 (MaxPoolin  (None, 36, 36, 64)        0         \n",
            " g2D)                                                            \n",
            "                                                                 \n",
            " conv2d_2 (Conv2D)           (None, 34, 34, 128)       73856     \n",
            "                                                                 \n",
            " max_pooling2d_2 (MaxPoolin  (None, 17, 17, 128)       0         \n",
            " g2D)                                                            \n",
            "                                                                 \n",
            " conv2d_3 (Conv2D)           (None, 15, 15, 128)       147584    \n",
            "                                                                 \n",
            " max_pooling2d_3 (MaxPoolin  (None, 7, 7, 128)         0         \n",
            " g2D)                                                            \n",
            "                                                                 \n",
            " flatten (Flatten)           (None, 6272)              0         \n",
            "                                                                 \n",
            " dense (Dense)               (None, 512)               3211776   \n",
            "                                                                 \n",
            " dense_1 (Dense)             (None, 1)                 513       \n",
            "                                                                 \n",
            "=================================================================\n",
            "Total params: 3453121 (13.17 MB)\n",
            "Trainable params: 3453121 (13.17 MB)\n",
            "Non-trainable params: 0 (0.00 Byte)\n",
            "_________________________________________________________________\n"
          ]
        }
      ]
    },
    {
      "cell_type": "code",
      "source": [
        "import cv2\n",
        "path='/content/test/cats/'\n",
        "files=os.listdir(path)\n",
        "count=0\n",
        "cat=0\n",
        "for file in files:\n",
        "  img_path=path+file\n",
        "  image=cv2.imread(img_path)\n",
        "  # print(img_path)\n",
        "  image=cv2.resize(image,(150,150))\n",
        "  image=image.reshape(1,150,150,3)\n",
        "  val=model.predict(image)\n",
        "  if val[0][0] == 0.0:\n",
        "    print(\"Cat\")\n",
        "    cat+=1\n",
        "  else: print(\" Dog\")\n",
        "  count+=1\n",
        "  if count == 100:\n",
        "    break\n",
        "\n",
        "print(\"Overall Accuracy : \" , cat/100.0)"
      ],
      "metadata": {
        "colab": {
          "base_uri": "https://localhost:8080/"
        },
        "id": "eJ3XHeUK7PIU",
        "outputId": "7aba7cd5-2027-41c6-d0f8-5e72f3f30c71"
      },
      "execution_count": 41,
      "outputs": [
        {
          "output_type": "stream",
          "name": "stdout",
          "text": [
            "1/1 [==============================] - 0s 17ms/step\n",
            "Cat\n",
            "1/1 [==============================] - 0s 52ms/step\n",
            "Cat\n",
            "1/1 [==============================] - 0s 26ms/step\n",
            " Dog\n",
            "1/1 [==============================] - 0s 17ms/step\n",
            " Dog\n",
            "1/1 [==============================] - 0s 18ms/step\n",
            "Cat\n",
            "1/1 [==============================] - 0s 26ms/step\n",
            " Dog\n",
            "1/1 [==============================] - 0s 26ms/step\n",
            "Cat\n",
            "1/1 [==============================] - 0s 18ms/step\n",
            " Dog\n",
            "1/1 [==============================] - 0s 20ms/step\n",
            "Cat\n",
            "1/1 [==============================] - 0s 18ms/step\n",
            "Cat\n",
            "1/1 [==============================] - 0s 18ms/step\n",
            "Cat\n",
            "1/1 [==============================] - 0s 18ms/step\n",
            "Cat\n",
            "1/1 [==============================] - 0s 17ms/step\n",
            "Cat\n",
            "1/1 [==============================] - 0s 17ms/step\n",
            " Dog\n",
            "1/1 [==============================] - 0s 17ms/step\n",
            "Cat\n",
            "1/1 [==============================] - 0s 19ms/step\n",
            "Cat\n",
            "1/1 [==============================] - 0s 17ms/step\n",
            "Cat\n",
            "1/1 [==============================] - 0s 20ms/step\n",
            "Cat\n",
            "1/1 [==============================] - 0s 17ms/step\n",
            "Cat\n",
            "1/1 [==============================] - 0s 23ms/step\n",
            "Cat\n",
            "1/1 [==============================] - 0s 17ms/step\n",
            "Cat\n",
            "1/1 [==============================] - 0s 22ms/step\n",
            "Cat\n",
            "1/1 [==============================] - 0s 19ms/step\n",
            " Dog\n",
            "1/1 [==============================] - 0s 18ms/step\n",
            "Cat\n",
            "1/1 [==============================] - 0s 23ms/step\n",
            "Cat\n",
            "1/1 [==============================] - 0s 20ms/step\n",
            "Cat\n",
            "1/1 [==============================] - 0s 20ms/step\n",
            " Dog\n",
            "1/1 [==============================] - 0s 17ms/step\n",
            " Dog\n",
            "1/1 [==============================] - 0s 17ms/step\n",
            "Cat\n",
            "1/1 [==============================] - 0s 17ms/step\n",
            "Cat\n",
            "1/1 [==============================] - 0s 17ms/step\n",
            "Cat\n",
            "1/1 [==============================] - 0s 17ms/step\n",
            "Cat\n",
            "1/1 [==============================] - 0s 17ms/step\n",
            " Dog\n",
            "1/1 [==============================] - 0s 17ms/step\n",
            "Cat\n",
            "1/1 [==============================] - 0s 17ms/step\n",
            "Cat\n",
            "1/1 [==============================] - 0s 17ms/step\n",
            "Cat\n",
            "1/1 [==============================] - 0s 17ms/step\n",
            "Cat\n",
            "1/1 [==============================] - 0s 18ms/step\n",
            "Cat\n",
            "1/1 [==============================] - 0s 18ms/step\n",
            " Dog\n",
            "1/1 [==============================] - 0s 17ms/step\n",
            "Cat\n",
            "1/1 [==============================] - 0s 16ms/step\n",
            "Cat\n",
            "1/1 [==============================] - 0s 17ms/step\n",
            "Cat\n",
            "1/1 [==============================] - 0s 17ms/step\n",
            "Cat\n",
            "1/1 [==============================] - 0s 17ms/step\n",
            "Cat\n",
            "1/1 [==============================] - 0s 17ms/step\n",
            "Cat\n",
            "1/1 [==============================] - 0s 17ms/step\n",
            "Cat\n",
            "1/1 [==============================] - 0s 19ms/step\n",
            " Dog\n",
            "1/1 [==============================] - 0s 19ms/step\n",
            " Dog\n",
            "1/1 [==============================] - 0s 17ms/step\n",
            "Cat\n",
            "1/1 [==============================] - 0s 20ms/step\n",
            "Cat\n",
            "1/1 [==============================] - 0s 17ms/step\n",
            "Cat\n",
            "1/1 [==============================] - 0s 18ms/step\n",
            "Cat\n",
            "1/1 [==============================] - 0s 20ms/step\n",
            "Cat\n",
            "1/1 [==============================] - 0s 22ms/step\n",
            "Cat\n",
            "1/1 [==============================] - 0s 18ms/step\n",
            "Cat\n",
            "1/1 [==============================] - 0s 19ms/step\n",
            "Cat\n",
            "1/1 [==============================] - 0s 17ms/step\n",
            "Cat\n",
            "1/1 [==============================] - 0s 18ms/step\n",
            "Cat\n",
            "1/1 [==============================] - 0s 18ms/step\n",
            "Cat\n",
            "1/1 [==============================] - 0s 17ms/step\n",
            "Cat\n",
            "1/1 [==============================] - 0s 18ms/step\n",
            "Cat\n",
            "1/1 [==============================] - 0s 21ms/step\n",
            "Cat\n",
            "1/1 [==============================] - 0s 19ms/step\n",
            " Dog\n",
            "1/1 [==============================] - 0s 18ms/step\n",
            "Cat\n",
            "1/1 [==============================] - 0s 18ms/step\n",
            "Cat\n",
            "1/1 [==============================] - 0s 18ms/step\n",
            "Cat\n",
            "1/1 [==============================] - 0s 18ms/step\n",
            "Cat\n",
            "1/1 [==============================] - 0s 17ms/step\n",
            "Cat\n",
            "1/1 [==============================] - 0s 18ms/step\n",
            "Cat\n",
            "1/1 [==============================] - 0s 17ms/step\n",
            "Cat\n",
            "1/1 [==============================] - 0s 18ms/step\n",
            "Cat\n",
            "1/1 [==============================] - 0s 17ms/step\n",
            "Cat\n",
            "1/1 [==============================] - 0s 16ms/step\n",
            "Cat\n",
            "1/1 [==============================] - 0s 16ms/step\n",
            " Dog\n",
            "1/1 [==============================] - 0s 17ms/step\n",
            " Dog\n",
            "1/1 [==============================] - 0s 17ms/step\n",
            " Dog\n",
            "1/1 [==============================] - 0s 25ms/step\n",
            " Dog\n",
            "1/1 [==============================] - 0s 32ms/step\n",
            "Cat\n",
            "1/1 [==============================] - 0s 28ms/step\n",
            "Cat\n",
            "1/1 [==============================] - 0s 28ms/step\n",
            "Cat\n",
            "1/1 [==============================] - 0s 44ms/step\n",
            "Cat\n",
            "1/1 [==============================] - 0s 33ms/step\n",
            " Dog\n",
            "1/1 [==============================] - 0s 29ms/step\n",
            "Cat\n",
            "1/1 [==============================] - 0s 24ms/step\n",
            "Cat\n",
            "1/1 [==============================] - 0s 28ms/step\n",
            "Cat\n",
            "1/1 [==============================] - 0s 24ms/step\n",
            "Cat\n",
            "1/1 [==============================] - 0s 25ms/step\n",
            "Cat\n",
            "1/1 [==============================] - 0s 26ms/step\n",
            " Dog\n",
            "1/1 [==============================] - 0s 28ms/step\n",
            " Dog\n",
            "1/1 [==============================] - 0s 26ms/step\n",
            " Dog\n",
            "1/1 [==============================] - 0s 30ms/step\n",
            " Dog\n",
            "1/1 [==============================] - 0s 39ms/step\n",
            "Cat\n",
            "1/1 [==============================] - 0s 25ms/step\n",
            "Cat\n",
            "1/1 [==============================] - 0s 26ms/step\n",
            "Cat\n",
            "1/1 [==============================] - 0s 31ms/step\n",
            "Cat\n",
            "1/1 [==============================] - 0s 29ms/step\n",
            "Cat\n",
            "1/1 [==============================] - 0s 31ms/step\n",
            " Dog\n",
            "1/1 [==============================] - 0s 29ms/step\n",
            "Cat\n",
            "1/1 [==============================] - 0s 30ms/step\n",
            "Cat\n",
            "1/1 [==============================] - 0s 45ms/step\n",
            "Cat\n",
            "Overall Accuracy :  0.77\n"
          ]
        }
      ]
    }
  ]
}